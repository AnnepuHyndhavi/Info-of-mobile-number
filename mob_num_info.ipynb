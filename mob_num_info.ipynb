{
  "nbformat": 4,
  "nbformat_minor": 0,
  "metadata": {
    "colab": {
      "name": "Untitled63.ipynb",
      "provenance": []
    },
    "kernelspec": {
      "name": "python3",
      "display_name": "Python 3"
    },
    "language_info": {
      "name": "python"
    }
  },
  "cells": [
    {
      "cell_type": "code",
      "metadata": {
        "colab": {
          "base_uri": "https://localhost:8080/"
        },
        "id": "Pcu4AQ8aST80",
        "outputId": "be6ec60e-70be-4047-bbcb-28f8ead9f5e3"
      },
      "source": [
        "pip install phonenumbers"
      ],
      "execution_count": 3,
      "outputs": [
        {
          "output_type": "stream",
          "text": [
            "Collecting phonenumbers\n",
            "  Downloading phonenumbers-8.12.28-py2.py3-none-any.whl (2.6 MB)\n",
            "\u001b[K     |████████████████████████████████| 2.6 MB 4.2 MB/s \n",
            "\u001b[?25hInstalling collected packages: phonenumbers\n",
            "Successfully installed phonenumbers-8.12.28\n"
          ],
          "name": "stdout"
        }
      ]
    },
    {
      "cell_type": "code",
      "metadata": {
        "id": "vSuegJDMSJbC"
      },
      "source": [
        "import phonenumbers"
      ],
      "execution_count": 4,
      "outputs": []
    },
    {
      "cell_type": "code",
      "metadata": {
        "id": "6kOHvhN-SZYs"
      },
      "source": [
        "from phonenumbers import geocoder, carrier, timezone"
      ],
      "execution_count": 6,
      "outputs": []
    },
    {
      "cell_type": "code",
      "metadata": {
        "colab": {
          "base_uri": "https://localhost:8080/"
        },
        "id": "aJOPnkfjS3cB",
        "outputId": "e5108c9e-774f-4014-9fc9-ac95aa39ba3a"
      },
      "source": [
        "phone_number = phonenumbers.parse(\"+917207236442\")\n",
        "print(geocoder.description_for_number(phone_number, 'en'))\n",
        "print(carrier.name_for_number(phone_number, 'en'))\n",
        "print(timezone.time_zones_for_number(phone_number))"
      ],
      "execution_count": 15,
      "outputs": [
        {
          "output_type": "stream",
          "text": [
            "India\n",
            "Tata Docomo\n",
            "('Asia/Calcutta',)\n"
          ],
          "name": "stdout"
        }
      ]
    }
  ]
}